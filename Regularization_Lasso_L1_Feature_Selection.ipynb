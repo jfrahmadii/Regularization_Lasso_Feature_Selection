{
  "nbformat": 4,
  "nbformat_minor": 0,
  "metadata": {
    "colab": {
      "provenance": []
    },
    "kernelspec": {
      "display_name": "Python 3",
      "language": "python",
      "name": "python3"
    },
    "language_info": {
      "codemirror_mode": {
        "name": "ipython",
        "version": 3
      },
      "file_extension": ".py",
      "mimetype": "text/x-python",
      "name": "python",
      "nbconvert_exporter": "python",
      "pygments_lexer": "ipython3",
      "version": "3.6.4"
    },
    "toc": {
      "base_numbering": 1,
      "nav_menu": {},
      "number_sections": true,
      "sideBar": true,
      "skip_h1_title": false,
      "title_cell": "Table of Contents",
      "title_sidebar": "Contents",
      "toc_cell": false,
      "toc_position": {},
      "toc_section_display": true,
      "toc_window_display": false
    }
  },
  "cells": [
    {
      "cell_type": "code",
      "metadata": {
        "id": "aOt20LC3zsBN"
      },
      "source": [
        "# The following piece of code gives the opportunity to show multiple outputs\n",
        "# in one cell:\n",
        "from IPython.core.interactiveshell import InteractiveShell\n",
        "InteractiveShell.ast_node_interactivity = \"all\"\n",
        "\n",
        "\n",
        "# Colorful outputs\n",
        "class bcolors:\n",
        "    RED       = '\\033[91m'\n",
        "    OKBLUE    = '\\033[94m'\n",
        "    BOLD      = '\\033[1m'\n",
        "    UNDERLINE = '\\033[4m'\n",
        "    ENDC      = '\\033[0m'"
      ],
      "execution_count": null,
      "outputs": []
    },
    {
      "cell_type": "markdown",
      "metadata": {
        "id": "JhunulGDzsBS"
      },
      "source": []
    },
    {
      "cell_type": "markdown",
      "metadata": {
        "id": "PI8k_3Wp2qVH"
      },
      "source": [
        "## **Part A** <font color=\"blue\">(5 points)</font>\n",
        "\n",
        "1. **<font color=\"blue\">(1 point)</font>** Generate 100 points equally distanced from $-20$ to $20$ and save them in a `numpy` array `x1`. Now, create $4$ more `numpy` arrays by raising `x1` to the power of $2,3,4,5$, and call them `x2`, `x3`, `x4` and `x5`, respectively.\n",
        "3. **<font color=\"blue\">(1 point)</font>** Create your response `y`, a new `numpy` array, defined as $y= 1.75 + 5 x_1 + 0.05 x_3 - 10.3 x_5 + \\varepsilon$, where $\\varepsilon \\sim \\mathcal{N}(0, 4)$.\n",
        "4. **<font color=\"blue\">(2 points)</font>** Using $5$-fold cross-validation, with a reasonable train-test proportion, train a **lasso** regression model including all $x_1, x_2, x_3 , x_4 , x_5$, and for $10$ different  pre-determined tuning parameters.\n",
        "5. **<font color=\"blue\">(1 point)</font>** Plot the **cross-validated mean squared errors** vs the tuning parameter's values\n",
        " and chose the best tuning parameter based on the plot. Does the best model chosen perform **variable selection**?"
      ]
    },
    {
      "cell_type": "code",
      "source": [
        "import numpy as np\n",
        "import pandas as pd\n",
        "import matplotlib.pyplot as plt\n",
        "import seaborn as sns"
      ],
      "metadata": {
        "id": "Zks1WJkDqY1N"
      },
      "execution_count": null,
      "outputs": []
    },
    {
      "cell_type": "markdown",
      "source": [
        "Generating 100 points equally distanced from $-20$ to $20$ and save as `x1`. Then creating $4$ more `numpy` arrays by raising `x1` to the power of $2,3,4,5$, and call them `x2`, `x3`, `x4` and `x5`, respectively."
      ],
      "metadata": {
        "id": "zqAZVuJ9tGHh"
      }
    },
    {
      "cell_type": "code",
      "source": [
        "# create five independent variables\n",
        "x1 = np.linspace(-20, 20, 100)\n",
        "x2 = x1**2\n",
        "x3 = x1**3\n",
        "x4 = x1**4\n",
        "x5 = x1**5\n",
        "\n",
        "X = np.column_stack((x1, x2, x3, x4, x5))"
      ],
      "metadata": {
        "id": "ab_HrkbBqwJl"
      },
      "execution_count": null,
      "outputs": []
    },
    {
      "cell_type": "markdown",
      "source": [
        "Creating response variable `y`, a new `numpy` array, defined as $y= 1.75 + 5 x_1 + 0.05 x_3 - 10.3 x_5 + \\varepsilon$, where $\\varepsilon \\sim \\mathcal{N}(0, 4)$."
      ],
      "metadata": {
        "id": "JEgau3XG0l5V"
      }
    },
    {
      "cell_type": "code",
      "source": [
        "# create response variable\n",
        "y = 1.75 + 5*x1 + 0.05*x3 - 10.3*x5 + np.random.normal(0, 2, 100)"
      ],
      "metadata": {
        "id": "pai13oddq8aa"
      },
      "execution_count": null,
      "outputs": []
    },
    {
      "cell_type": "code",
      "source": [
        "# split data to train and test\n",
        "from sklearn.model_selection import train_test_split\n",
        "\n",
        "x_train, x_test, y_train, y_test = train_test_split(X , y, test_size=0.25, random_state=42)"
      ],
      "metadata": {
        "id": "1y_w62lcrDxU"
      },
      "execution_count": null,
      "outputs": []
    },
    {
      "cell_type": "code",
      "source": [
        "from sklearn.linear_model import Lasso\n",
        "from sklearn.model_selection import KFold\n",
        "from sklearn.model_selection import cross_val_score\n",
        "from sklearn.metrics import mean_squared_error"
      ],
      "metadata": {
        "id": "BTJMlvA_rmxi"
      },
      "execution_count": null,
      "outputs": []
    },
    {
      "cell_type": "markdown",
      "source": [
        "To identify the optimal tuning parameter, we will first select 5 parameters within a broad range. This initial selection will help us determine the approximate region where the best parameter lies."
      ],
      "metadata": {
        "id": "m3xR59dktgCa"
      }
    },
    {
      "cell_type": "code",
      "source": [
        "# train a lasso regression using 5-fold cross validation\n",
        "stage_1 = [1, 10, 100, 1000, 10000]\n",
        "\n",
        "k = 5\n",
        "\n",
        "R_squared_mean = np.zeros(len(stage_1))\n",
        "\n",
        "mse_mean = np.zeros(len(stage_1))\n",
        "\n",
        "for i in range(len(stage_1)):\n",
        "      alpha = stage_1[i]\n",
        "      print('alpha:', alpha)\n",
        "      R_squared0 = 0\n",
        "      mse0 = 0\n",
        "\n",
        "      for train_index, test_index  in KFold(n_splits = k, shuffle=True, random_state=42).split(x_train):\n",
        "         X_train, X_val = x_train[train_index], x_train[test_index]\n",
        "         Y_train, Y_val = y_train[train_index], y_train[test_index]\n",
        "\n",
        "         lasso_regression = Lasso(alpha= alpha, random_state=42)\n",
        "         lasso_regression.fit(X_train, Y_train)\n",
        "\n",
        "         R_squared = lasso_regression.score(X_train,Y_train)\n",
        "         y_pred_lasso = lasso_regression.predict(X_val)\n",
        "         mse = mean_squared_error(Y_val, y_pred_lasso)\n",
        "         R_squared0 += R_squared\n",
        "         mse0 += mse\n",
        "\n",
        "      R_squared_mean[i] = R_squared0/k\n",
        "      mse_mean[i] = mse0/k\n",
        "      print('R_squared_mean:', R_squared_mean[i])\n",
        "      print('mse_mean:', mse_mean[i])\n",
        "      print()"
      ],
      "metadata": {
        "colab": {
          "base_uri": "https://localhost:8080/"
        },
        "id": "ESzNHAIrV0i3",
        "outputId": "9f6dcbb4-477b-4cef-ce51-81a0f53ffb57"
      },
      "execution_count": null,
      "outputs": [
        {
          "output_type": "stream",
          "name": "stdout",
          "text": [
            "alpha: 1\n",
            "R_squared_mean: 0.9999999998307672\n",
            "mse_mean: 23986.50269824246\n",
            "\n",
            "alpha: 10\n",
            "R_squared_mean: 0.999999999837538\n",
            "mse_mean: 23058.426841749653\n",
            "\n",
            "alpha: 100\n",
            "R_squared_mean: 0.9999999998936143\n",
            "mse_mean: 15268.165921554551\n",
            "\n",
            "alpha: 1000\n",
            "R_squared_mean: 0.9999999999962238\n",
            "mse_mean: 471.61405675169306\n",
            "\n",
            "alpha: 10000\n",
            "R_squared_mean: 0.9999999999908967\n",
            "mse_mean: 1143.9307592531136\n",
            "\n"
          ]
        }
      ]
    },
    {
      "cell_type": "code",
      "source": [
        "figuresize = plt.figure(figsize=(10,6))\n",
        "trainAcc = plt.plot(stage_1, mse_mean, '--bo')\n",
        "title = plt.title('Cross-Validated MSE for Multiple Alphas', fontsize=15)\n",
        "xlab = plt.xlabel('Alpha', fontsize=10)\n",
        "ylab = plt.ylabel('CV MSE', fontsize=10)"
      ],
      "metadata": {
        "colab": {
          "base_uri": "https://localhost:8080/",
          "height": 566
        },
        "id": "NYRaHREgby2V",
        "outputId": "5d31c476-b82a-4222-ad3f-a506010b14e0"
      },
      "execution_count": null,
      "outputs": [
        {
          "output_type": "display_data",
          "data": {
            "text/plain": [
              "<Figure size 1000x600 with 1 Axes>"
            ],
            "image/png": "[encoded data removed]"
          },
          "metadata": {}
        }
      ]
    },
    {
      "cell_type": "markdown",
      "source": [
        "\n",
        "It is clear that the optimal tuning parameter will lie around 1000. Therefore, in the next step, we will test 5 tuning parameters within a narrow range around 1000 to pinpoint the optimal value more precisely"
      ],
      "metadata": {
        "id": "W0KbHKoAuu5T"
      }
    },
    {
      "cell_type": "code",
      "source": [
        "# train a lasso regression using 5-fold cross validation\n",
        "stage_2 = [850, 900, 950, 1050, 1100]\n",
        "\n",
        "k = 5\n",
        "\n",
        "\n",
        "R_squared_mean = np.zeros(len(stage_2))\n",
        "\n",
        "mse_mean = np.zeros(len(stage_2))\n",
        "\n",
        "for i in range(len(stage_2)):\n",
        "      alpha = stage_2[i]\n",
        "      print('alpha:', alpha)\n",
        "      R_squared0 = 0\n",
        "      mse0 = 0\n",
        "\n",
        "      for train_index, test_index  in KFold(n_splits = k, shuffle=True, random_state=42).split(x_train):\n",
        "         X_train, X_val = x_train[train_index], x_train[test_index]\n",
        "         Y_train, Y_val = y_train[train_index], y_train[test_index]\n",
        "\n",
        "         lasso_regression = Lasso(alpha= alpha, random_state=42)\n",
        "         lasso_regression.fit(X_train, Y_train)\n",
        "\n",
        "         R_squared = lasso_regression.score(X_train,Y_train)\n",
        "         y_pred_lasso = lasso_regression.predict(X_val)\n",
        "         mse = mean_squared_error(Y_val, y_pred_lasso)\n",
        "         R_squared0 += R_squared\n",
        "         mse0 += mse\n",
        "\n",
        "      R_squared_mean[i] = R_squared0/k\n",
        "      mse_mean[i] = mse0/k\n",
        "      print('R_squared_mean:', R_squared_mean[i])\n",
        "      print('mse_mean:', mse_mean[i])\n",
        "      print()"
      ],
      "metadata": {
        "colab": {
          "base_uri": "https://localhost:8080/"
        },
        "id": "1LXkg1qUb3qU",
        "outputId": "169cc5bb-d295-4074-90ba-7f28a7268c54"
      },
      "execution_count": null,
      "outputs": [
        {
          "output_type": "stream",
          "name": "stdout",
          "text": [
            "alpha: 850\n",
            "R_squared_mean: 0.9999999999958271\n",
            "mse_mean: 510.44315434057444\n",
            "\n",
            "alpha: 900\n",
            "R_squared_mean: 0.9999999999961359\n",
            "mse_mean: 479.543380195152\n",
            "\n",
            "alpha: 950\n",
            "R_squared_mean: 0.9999999999962454\n",
            "mse_mean: 467.57023535691013\n",
            "\n",
            "alpha: 1050\n",
            "R_squared_mean: 0.9999999999961938\n",
            "mse_mean: 473.5831418504139\n",
            "\n",
            "alpha: 1100\n",
            "R_squared_mean: 0.9999999999961606\n",
            "mse_mean: 478.82114432010167\n",
            "\n"
          ]
        }
      ]
    },
    {
      "cell_type": "code",
      "source": [
        "figuresize = plt.figure(figsize=(10,6))\n",
        "trainMSE = plt.plot(stage_2, mse_mean, '--bo')\n",
        "title = plt.title('Cross-Validated MSE for Multiple Alphas', fontsize=15)\n",
        "xlab = plt.xlabel('Alpha', fontsize=10)\n",
        "ylab = plt.ylabel('CV MSE', fontsize=10)"
      ],
      "metadata": {
        "colab": {
          "base_uri": "https://localhost:8080/",
          "height": 566
        },
        "id": "C_SJIt7-kHzy",
        "outputId": "3e18c182-af69-428f-e484-76ba8f3aadcb"
      },
      "execution_count": null,
      "outputs": [
        {
          "output_type": "display_data",
          "data": {
            "text/plain": [
              "<Figure size 1000x600 with 1 Axes>"
            ],
            "image/png": "[encoded data removed]"
          },
          "metadata": {}
        }
      ]
    },
    {
      "cell_type": "markdown",
      "source": [
        "After using cross validation for 10 tuning parameters to find the optimal, 950 seems to be the best one. We now can use this parameter on the test data to evaluate the model."
      ],
      "metadata": {
        "id": "lac1Pi-xwFVH"
      }
    },
    {
      "cell_type": "code",
      "source": [
        "# evaluate model with alpha = 950 with test data\n",
        "lasso_regression = Lasso(alpha= 950, random_state=42)\n",
        "lasso_regression.fit(x_train, y_train)\n",
        "y_pred_lasso = lasso_regression.predict(x_test)\n",
        "print('R_squared:', lasso_regression.score(x_train,y_train))\n",
        "print('mse:', mean_squared_error(y_test, y_pred_lasso))"
      ],
      "metadata": {
        "colab": {
          "base_uri": "https://localhost:8080/"
        },
        "id": "-P2kwot1bBSB",
        "outputId": "71969f75-6186-4f7f-98f6-58b7f68345ef"
      },
      "execution_count": null,
      "outputs": [
        {
          "output_type": "stream",
          "name": "stdout",
          "text": [
            "R_squared: 0.9999999999962302\n",
            "mse: 554.2002966451369\n"
          ]
        }
      ]
    },
    {
      "cell_type": "markdown",
      "source": [
        "\n",
        "To confirm that variable selection occurred during this Lasso regression, we can examine the coefficients of the model.\n"
      ],
      "metadata": {
        "id": "Jfg_EwzRw0qV"
      }
    },
    {
      "cell_type": "code",
      "source": [
        "lasso_regression.coef_"
      ],
      "metadata": {
        "colab": {
          "base_uri": "https://localhost:8080/"
        },
        "id": "upJGQBiOMikR",
        "outputId": "0f976dd6-6ecc-4b3a-e375-43e8e19d11e7"
      },
      "execution_count": null,
      "outputs": [
        {
          "output_type": "execute_result",
          "data": {
            "text/plain": [
              "array([ 0.00000000e+00,  0.00000000e+00,  6.94199982e-02, -3.63639203e-05,\n",
              "       -1.03000112e+01])"
            ]
          },
          "metadata": {},
          "execution_count": 26
        }
      ]
    },
    {
      "cell_type": "code",
      "source": [
        "# find whether features selected or not during lasso regression\n",
        "lasso_regression.coef_ != 0"
      ],
      "metadata": {
        "colab": {
          "base_uri": "https://localhost:8080/"
        },
        "id": "plSugPqRMsU5",
        "outputId": "303a55f2-a452-4171-9d47-43d7416b87c1"
      },
      "execution_count": null,
      "outputs": [
        {
          "output_type": "execute_result",
          "data": {
            "text/plain": [
              "array([False, False,  True,  True,  True])"
            ]
          },
          "metadata": {},
          "execution_count": 29
        }
      ]
    },
    {
      "cell_type": "markdown",
      "source": [
        "As it is shown, 3 out of 5 initial variables were chosen in the model."
      ],
      "metadata": {
        "id": "sXJWHkLRxIKI"
      }
    }
  ]
}